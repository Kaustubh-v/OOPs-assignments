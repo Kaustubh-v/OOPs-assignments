{
 "cells": [
  {
   "cell_type": "code",
   "execution_count": null,
   "id": "f3e62119",
   "metadata": {
    "scrolled": true
   },
   "outputs": [],
   "source": []
  },
  {
   "cell_type": "code",
   "execution_count": null,
   "id": "8d3860c2",
   "metadata": {},
   "outputs": [],
   "source": []
  },
  {
   "cell_type": "code",
   "execution_count": null,
   "id": "b4fbffe8",
   "metadata": {},
   "outputs": [],
   "source": []
  },
  {
   "cell_type": "code",
   "execution_count": null,
   "id": "f048f692",
   "metadata": {},
   "outputs": [],
   "source": []
  },
  {
   "cell_type": "code",
   "execution_count": null,
   "id": "b902e3d8",
   "metadata": {},
   "outputs": [],
   "source": []
  },
  {
   "cell_type": "code",
   "execution_count": null,
   "id": "18ad14ff",
   "metadata": {},
   "outputs": [],
   "source": []
  },
  {
   "cell_type": "code",
   "execution_count": 1,
   "id": "d2cd0c0a",
   "metadata": {},
   "outputs": [],
   "source": [
    "from tkinter import Tk,Label,StringVar\n",
    "\n",
    "def printer1(event):\n",
    "    label1.config(text = \"This label is clicked\")\n",
    "    \n",
    "def printer2(event):\n",
    "    label2.config(text = \"This label is clicked\")\n",
    "\n",
    "root = Tk()\n",
    "root.title(\"Displaying labels of different colors as background\")\n",
    "root.geometry(\"500x500\")\n",
    "\n",
    "root.minsize(300, 500)\n",
    "root.maxsize(800, 800)  \n",
    "\n",
    "\n",
    "label1 = Label(root, text=\"This is the first label\", relief = \"sunken\",bg = \"red\")\n",
    "label1.pack(fill=\"both\",expand = True)\n",
    "\n",
    "label2 = Label(root, text=\"This is the second label\", relief = \"sunken\",bg = \"yellow\")\n",
    "label2.pack(fill=\"both\", expand = True)\n",
    "\n",
    "label1.bind(\"<Button-1>\",printer1)\n",
    "label2.bind(\"<Button-1>\",printer2)\n",
    "\n",
    "root.mainloop()"
   ]
  },
  {
   "cell_type": "code",
   "execution_count": null,
   "id": "6aed3485",
   "metadata": {},
   "outputs": [],
   "source": []
  },
  {
   "cell_type": "code",
   "execution_count": null,
   "id": "0dc0cf4a",
   "metadata": {},
   "outputs": [],
   "source": []
  },
  {
   "cell_type": "code",
   "execution_count": null,
   "id": "a73d1374",
   "metadata": {},
   "outputs": [],
   "source": []
  },
  {
   "cell_type": "code",
   "execution_count": null,
   "id": "f8e4f381",
   "metadata": {},
   "outputs": [],
   "source": []
  },
  {
   "cell_type": "code",
   "execution_count": null,
   "id": "44dc0ea7",
   "metadata": {},
   "outputs": [],
   "source": []
  },
  {
   "cell_type": "code",
   "execution_count": null,
   "id": "8d8a9046",
   "metadata": {},
   "outputs": [],
   "source": []
  }
 ],
 "metadata": {
  "kernelspec": {
   "display_name": "Python 3 (ipykernel)",
   "language": "python",
   "name": "python3"
  },
  "language_info": {
   "codemirror_mode": {
    "name": "ipython",
    "version": 3
   },
   "file_extension": ".py",
   "mimetype": "text/x-python",
   "name": "python",
   "nbconvert_exporter": "python",
   "pygments_lexer": "ipython3",
   "version": "3.9.7"
  }
 },
 "nbformat": 4,
 "nbformat_minor": 5
}
